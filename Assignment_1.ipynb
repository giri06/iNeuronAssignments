{
 "cells": [
  {
   "cell_type": "markdown",
   "id": "f0e26ec4",
   "metadata": {},
   "source": [
    "1\n",
    "* , -, / , + > all these are operators\n",
    "'hello' -> str\n",
    "-87.8 -> float\n",
    "6 -> int"
   ]
  },
  {
   "cell_type": "markdown",
   "id": "8ecf1d41",
   "metadata": {},
   "source": [
    "2\n",
    "Difference between string and variable :\n",
    "String : it is a type of variable, can consists of number, digits, characters and special characters.\n",
    "Variable : it stores some value in it, it can be int, str, list, etc\n"
   ]
  },
  {
   "cell_type": "markdown",
   "id": "bfb69796",
   "metadata": {},
   "source": [
    "3\n",
    "Types of data type:\n",
    "int: It can be positive and negative numbers without decimal points.\n",
    "string : It is a can be a collection of characters or even a single character\n",
    "float: it can be positive or negative numbers with decimal\n",
    "boolean: It can be either true or false\n",
    "complex: It consists of both real and imaginary number"
   ]
  },
  {
   "cell_type": "markdown",
   "id": "97ad0a43",
   "metadata": {},
   "source": [
    "4\n",
    "An expression is made of variables and operator. Expression gives us results."
   ]
  },
  {
   "cell_type": "markdown",
   "id": "718ae046",
   "metadata": {},
   "source": [
    "5\n",
    "Statement vs Expression\n",
    "Statement:\n",
    "> a = 10\n",
    "> it assigns a value to the variable\n",
    "\n",
    "Expression\n",
    "> a = 10 + 20\n",
    ">some computation is done and then the value is assigned to a variable\n",
    ">these are used for condtion in different types of loops"
   ]
  },
  {
   "cell_type": "markdown",
   "id": "d3981164",
   "metadata": {},
   "source": [
    "6\n",
    "bacon = 22\n",
    "bacon + 1 \n",
    "\n",
    "The value of the variable wouldn't change until it is assigned a new value. So, it will remain 22.\n",
    "\n",
    "if code was:\n",
    "bacon = 22\n",
    "bacon = bacon +1\n",
    "Then the value would change to 23."
   ]
  },
  {
   "cell_type": "markdown",
   "id": "4558aa73",
   "metadata": {},
   "source": [
    "7\n",
    "both will result to same\n",
    "'spamspamspam'"
   ]
  },
  {
   "cell_type": "markdown",
   "id": "77c5fd96",
   "metadata": {},
   "source": [
    "8\n",
    "Variables cannot start with a digit."
   ]
  },
  {
   "cell_type": "markdown",
   "id": "57e9bee6",
   "metadata": {},
   "source": [
    "9\n",
    "type() will give the data-type of the variable"
   ]
  },
  {
   "cell_type": "markdown",
   "id": "66ea18db",
   "metadata": {},
   "source": [
    "10\n",
    "'I have eaten' + 99 + 'burritos'\n",
    "This would give an error, because the only similar kind of data can be present in a expression.\n",
    "This could be rectified with\n",
    "'I have eaten' + '99' + 'burritos'\n",
    ">'I have eaten 99 burritos'\n"
   ]
  }
 ],
 "metadata": {
  "kernelspec": {
   "display_name": "Python 3",
   "language": "python",
   "name": "python3"
  },
  "language_info": {
   "codemirror_mode": {
    "name": "ipython",
    "version": 3
   },
   "file_extension": ".py",
   "mimetype": "text/x-python",
   "name": "python",
   "nbconvert_exporter": "python",
   "pygments_lexer": "ipython3",
   "version": "3.8.8"
  }
 },
 "nbformat": 4,
 "nbformat_minor": 5
}
