{
 "cells": [
  {
   "cell_type": "code",
   "execution_count": 1,
   "id": "58fd2a1a",
   "metadata": {},
   "outputs": [
    {
     "name": "stdout",
     "output_type": "stream",
     "text": [
      "Hello Python\n",
      "30\n",
      "0.5\n",
      "Initial value of a 10\n",
      "Initial value of b 20\n",
      "Final value of a 20\n",
      "Final value of b 10\n"
     ]
    }
   ],
   "source": [
    "#1. Write a Python program to print \"Hello Python\"?\n",
    "\n",
    "print(\"Hello Python\")\n",
    "\n",
    "#2. Write a Python program to do arithmetical operations addition and division.?\n",
    "\n",
    "a = 10\n",
    "\n",
    "b = 20\n",
    "\n",
    "print(a+b)\n",
    "print(a/b)\n",
    "\n",
    "\n",
    "#3. Write a Python program to find the area of a triangle?\n",
    "\n",
    "base = 10\n",
    "height = 20\n",
    "\n",
    "area = (base*height)/2\n",
    "\n",
    "\n",
    "#4. Write a Python program to swap two variables?\n",
    "\n",
    "print(\"Initial value of a\",a)\n",
    "print(\"Initial value of b\",b)\n",
    "\n",
    "a,b = b,a\n",
    "\n",
    "print(\"Final value of a\",a)\n",
    "print(\"Final value of b\",b)\n",
    "\n",
    "\n",
    "#5. Write a Python program to generate a random number?\n",
    "\n",
    "import random\n",
    "\n",
    "print(random.randint())"
   ]
  },
  {
   "cell_type": "code",
   "execution_count": null,
   "id": "bc086956",
   "metadata": {},
   "outputs": [],
   "source": []
  }
 ],
 "metadata": {
  "kernelspec": {
   "display_name": "Python 3 (ipykernel)",
   "language": "python",
   "name": "python3"
  },
  "language_info": {
   "codemirror_mode": {
    "name": "ipython",
    "version": 3
   },
   "file_extension": ".py",
   "mimetype": "text/x-python",
   "name": "python",
   "nbconvert_exporter": "python",
   "pygments_lexer": "ipython3",
   "version": "3.9.7"
  }
 },
 "nbformat": 4,
 "nbformat_minor": 5
}
