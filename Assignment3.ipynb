{
 "cells": [
  {
   "cell_type": "markdown",
   "id": "6d7b1a7e",
   "metadata": {},
   "source": [
    "1. Why are functions advantageous to have in your programs?\n",
    "\n",
    "The code in a function can be reused again and again\n",
    "If the function part of the code fails, the whole function doesn't fails\n",
    "It introduces modularity in python\n"
   ]
  },
  {
   "cell_type": "markdown",
   "id": "eef272d3",
   "metadata": {},
   "source": [
    "2. When does the code in a function run: when it's specified or when it's called?\n",
    "\n",
    "As python runs sequentially, but it doesn't run the function until the function is called. Generally the function definition is kept, before calling the function. It doesn't mean that the function won't run if definition is placed after calling the function. \n"
   ]
  },
  {
   "cell_type": "markdown",
   "id": "6fbc7478",
   "metadata": {},
   "source": [
    "3. What statement creates a function?\n",
    "\n",
    "def functionName():"
   ]
  },
  {
   "cell_type": "markdown",
   "id": "1160b131",
   "metadata": {},
   "source": [
    "4. What is the difference between a function and a function call?\n",
    "\n",
    "A function is a module where the definition of function is given. A function call is when the function is called by specifying it's name to be executed with or without parameters, as applicable. "
   ]
  },
  {
   "cell_type": "markdown",
   "id": "a929f9d4",
   "metadata": {},
   "source": [
    "5. How many global scopes are there in a Python program? How many local scopes?\n",
    "\n",
    "There is one global scope and the number of local scopes will be equal to the number of functions mentioned in the program.\n",
    "\n"
   ]
  },
  {
   "cell_type": "markdown",
   "id": "ea49c05e",
   "metadata": {},
   "source": [
    "6. What happens to variables in a local scope when the function call returns?\n",
    "\n",
    "The local variables within the function is cleared from the memory."
   ]
  },
  {
   "cell_type": "markdown",
   "id": "9047beac",
   "metadata": {},
   "source": [
    "7. What is the concept of a return value? Is it possible to have a return value in an expression?\n",
    "\n",
    "The return value gives the specified value where the function is called. Yes it is possible to return a function with an expression. It first evaluates the expression and returns value.\n",
    "\n",
    "\n",
    "def func(a,b):\n",
    "    return a/b\n"
   ]
  },
  {
   "cell_type": "markdown",
   "id": "1ee643cf",
   "metadata": {},
   "source": [
    "8. If a function does not have a return statement, what is the return value of a call to that function?\n",
    "\n",
    "If function doesn't have a return statement, it returns None by default.\n",
    "\n"
   ]
  },
  {
   "cell_type": "markdown",
   "id": "b0ab8ddb",
   "metadata": {},
   "source": [
    "9. How do you make a function variable refer to the global variable?\n",
    "\n",
    "By using the following statement within the function.\n",
    "\n",
    "global variablename"
   ]
  },
  {
   "cell_type": "markdown",
   "id": "a13ad625",
   "metadata": {},
   "source": [
    "10. What is the data type of None?\n",
    "\n",
    "None is an object, it is a datatype of the class NoneType.\n",
    "\n",
    "\n"
   ]
  },
  {
   "cell_type": "markdown",
   "id": "404bc075",
   "metadata": {},
   "source": [
    "11. What does the sentence import areallyourpetsnamederic do?\n",
    "\n",
    "It throws an error, ModuleNotFoundError. We can import modules which are present in the library."
   ]
  },
  {
   "cell_type": "markdown",
   "id": "398a4c7b",
   "metadata": {},
   "source": [
    "12. If you had a bacon() feature in a spam module, what would you call it after importing spam?\n",
    "\n",
    "spam.bacon()"
   ]
  },
  {
   "cell_type": "markdown",
   "id": "da8b40c8",
   "metadata": {},
   "source": [
    "13. What can you do to save a programme from crashing if it encounters an error?\n",
    "\n",
    "We can do error handling using, try and except clause.\n"
   ]
  },
  {
   "cell_type": "markdown",
   "id": "e97b0223",
   "metadata": {},
   "source": [
    "14. What is the purpose of the try clause? What is the purpose of the except clause?\n",
    "\n",
    "Try clause and except clause is used for error handling. Try clause helps to run a code which might have error, if it has some errors then except clause is executed"
   ]
  },
  {
   "cell_type": "code",
   "execution_count": null,
   "id": "9e3bdc9a",
   "metadata": {},
   "outputs": [],
   "source": []
  },
  {
   "cell_type": "code",
   "execution_count": null,
   "id": "9fb3ff11",
   "metadata": {},
   "outputs": [],
   "source": []
  },
  {
   "cell_type": "code",
   "execution_count": null,
   "id": "85245e3f",
   "metadata": {},
   "outputs": [],
   "source": []
  },
  {
   "cell_type": "code",
   "execution_count": 3,
   "id": "16cdde28",
   "metadata": {},
   "outputs": [
    {
     "data": {
      "text/plain": [
       "NoneType"
      ]
     },
     "execution_count": 3,
     "metadata": {},
     "output_type": "execute_result"
    }
   ],
   "source": [
    "type(None)"
   ]
  },
  {
   "cell_type": "code",
   "execution_count": 4,
   "id": "cf4141cf",
   "metadata": {},
   "outputs": [
    {
     "ename": "ModuleNotFoundError",
     "evalue": "No module named 'areallyourpetsnamederic'",
     "output_type": "error",
     "traceback": [
      "\u001b[0;31m---------------------------------------------------------------------------\u001b[0m",
      "\u001b[0;31mModuleNotFoundError\u001b[0m                       Traceback (most recent call last)",
      "\u001b[0;32m/var/folders/mt/183glrks0nd9vm2st5s6nv2w0000gn/T/ipykernel_41068/51184242.py\u001b[0m in \u001b[0;36m<module>\u001b[0;34m\u001b[0m\n\u001b[0;32m----> 1\u001b[0;31m \u001b[0;32mimport\u001b[0m \u001b[0mareallyourpetsnamederic\u001b[0m\u001b[0;34m\u001b[0m\u001b[0;34m\u001b[0m\u001b[0m\n\u001b[0m",
      "\u001b[0;31mModuleNotFoundError\u001b[0m: No module named 'areallyourpetsnamederic'"
     ]
    }
   ],
   "source": [
    "import areallyourpetsnamederic"
   ]
  },
  {
   "cell_type": "code",
   "execution_count": null,
   "id": "da87bfad",
   "metadata": {},
   "outputs": [],
   "source": []
  }
 ],
 "metadata": {
  "kernelspec": {
   "display_name": "Python 3 (ipykernel)",
   "language": "python",
   "name": "python3"
  },
  "language_info": {
   "codemirror_mode": {
    "name": "ipython",
    "version": 3
   },
   "file_extension": ".py",
   "mimetype": "text/x-python",
   "name": "python",
   "nbconvert_exporter": "python",
   "pygments_lexer": "ipython3",
   "version": "3.9.7"
  }
 },
 "nbformat": 4,
 "nbformat_minor": 5
}
