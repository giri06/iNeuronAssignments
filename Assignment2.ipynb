{
 "cells": [
  {
   "cell_type": "markdown",
   "id": "a1f6a634",
   "metadata": {},
   "source": [
    "1.What are the two values of the Boolean data type? How do you write them?\n",
    "\n",
    "The 2 values of the boolean are true and false\n",
    "We write it as:\n",
    "True\n",
    "False\n"
   ]
  },
  {
   "cell_type": "markdown",
   "id": "de426fde",
   "metadata": {},
   "source": [
    "2. What are the three different types of Boolean operators?\n",
    "\n",
    "AND\n",
    "OR\n",
    "NOT\n"
   ]
  },
  {
   "cell_type": "markdown",
   "id": "fbfe5b07",
   "metadata": {},
   "source": [
    "3. Make a list of each Boolean operator's truth tables (i.e. every possible combination of Boolean values for the operator and what it evaluate ).\n",
    "\n",
    "NOT True = False|NOT False = True|\n",
    "True AND False = False|False AND True = False| \n",
    "False AND False = False| True AND True = True|\n",
    "True OR False = True|False OR TRUE = True|\n",
    "True OR True = True|False OR False = False|\n",
    "\n"
   ]
  },
  {
   "cell_type": "markdown",
   "id": "833743c6",
   "metadata": {},
   "source": [
    "4. What are the values of the following expressions?\n",
    "\n",
    "(5>4) and (3==5) = False|\n",
    "not(5>4) = False|\n",
    "(5>4) or (3==5)= True|\n",
    "not((5>4) or (3==5))= False|\n",
    "(True and True) and (True == False) = False|\n",
    "(not False) or (not True) = True\n"
   ]
  },
  {
   "cell_type": "markdown",
   "id": "3485883e",
   "metadata": {},
   "source": [
    "5. What are the six comparison operators?\n",
    "\n",
    "Ans   >,<,==,>=,<=,!="
   ]
  },
  {
   "cell_type": "markdown",
   "id": "5461dc04",
   "metadata": {},
   "source": [
    "6. How do you tell the difference between the equal to and assignment operators?Describe a condition and when you would use one.\n",
    "\n",
    "Equal to == > used for comparing LHS to RHS\n",
    "|Assignment = > used for assigning the value of RHS to LHS\n",
    "\n",
    "\n",
    "\n"
   ]
  },
  {
   "cell_type": "code",
   "execution_count": 2,
   "id": "4a34b29a",
   "metadata": {},
   "outputs": [
    {
     "name": "stdout",
     "output_type": "stream",
     "text": [
      "ham\n",
      "spam\n",
      "spam\n"
     ]
    }
   ],
   "source": [
    "#7. Identify the three blocks in this code:\n",
    "#block1\n",
    "spam = 0\n",
    "if spam == 10:\n",
    "    print(\"eggs\")\n",
    "#block2\n",
    "if spam > 5:\n",
    "    print(\"bacon\")\n",
    "else:\n",
    "    print(\"ham\")\n",
    "#block3\n",
    "print(\"spam\")\n",
    "print(\"spam\")\n",
    "    "
   ]
  },
  {
   "cell_type": "code",
   "execution_count": 6,
   "id": "d500c75c",
   "metadata": {},
   "outputs": [
    {
     "name": "stdout",
     "output_type": "stream",
     "text": [
      "1\n",
      "Hello\n"
     ]
    }
   ],
   "source": [
    "\"\"\"8. Write code that prints Hello if 1 is stored in spam, prints Howdy if 2 is stored in spam, and prints\n",
    "Greetings! if anything else is stored in spam.\"\"\"\n",
    "\n",
    "spam = int(input())\n",
    "\n",
    "if spam == 1:\n",
    "    print(\"Hello\")\n",
    "elif spam == 2:\n",
    "    print(\"Howdy\")\n",
    "else:\n",
    "    print(\"Greetings!\")\n",
    "    "
   ]
  },
  {
   "cell_type": "markdown",
   "id": "48e4aefa",
   "metadata": {},
   "source": [
    "9.If your programme is stuck in an endless loop, what keys you’ll press?\n",
    "\n",
    "Ctrl+C"
   ]
  },
  {
   "cell_type": "markdown",
   "id": "961160c7",
   "metadata": {},
   "source": [
    "10. How can you tell the difference between break and continue?\n",
    "\n",
    "If you want to interrupt the loop and exit from it then we use break.\n",
    "Even if the loop is interrupted and we want to run in the same loop, we use continue."
   ]
  },
  {
   "cell_type": "markdown",
   "id": "46c3f7f7",
   "metadata": {},
   "source": [
    "11. In a for loop, what is the difference between range(10), range(0, 10), and range(0, 10, 1)?\n",
    "\n",
    "All are the same"
   ]
  },
  {
   "cell_type": "code",
   "execution_count": null,
   "id": "1363fe1f",
   "metadata": {},
   "outputs": [],
   "source": [
    "\"\"\"12. Write a short program that prints the numbers 1 to 10 using a for loop. Then write an equivalent\n",
    "program that prints the numbers 1 to 10 using a while loop.\"\"\"\n",
    "\n",
    "for i in range(1,10+1):\n",
    "    print(i)\n",
    "\n",
    "k = 1\n",
    "\n",
    "while(k<=10):\n",
    "    print(k)\n",
    "    k+=1"
   ]
  },
  {
   "cell_type": "markdown",
   "id": "b2a6f109",
   "metadata": {},
   "source": [
    "13. If you had a function named bacon() inside a module named spam, how would you call it after\n",
    "importing spam?\n",
    "\n",
    "We can access by using\n",
    "spam.bacon()"
   ]
  },
  {
   "cell_type": "code",
   "execution_count": null,
   "id": "6636255e",
   "metadata": {},
   "outputs": [],
   "source": []
  }
 ],
 "metadata": {
  "kernelspec": {
   "display_name": "Python 3 (ipykernel)",
   "language": "python",
   "name": "python3"
  },
  "language_info": {
   "codemirror_mode": {
    "name": "ipython",
    "version": 3
   },
   "file_extension": ".py",
   "mimetype": "text/x-python",
   "name": "python",
   "nbconvert_exporter": "python",
   "pygments_lexer": "ipython3",
   "version": "3.9.7"
  }
 },
 "nbformat": 4,
 "nbformat_minor": 5
}
