{
 "cells": [
  {
   "cell_type": "markdown",
   "id": "ed70f5d0",
   "metadata": {},
   "source": [
    "1. In the below elements which of them are values or an expression? eg:- values can be\n",
    "integer or string and expressions will be mathematical operators.\n",
    "\n",
    "* - Operator\n",
    "'hello' - String\n",
    "-87.8 - Float \n",
    "- - Operator\n",
    "/ - Operator\n",
    "+ - Operator\n",
    "6 - Integer\n",
    "\n",
    "\n",
    "2. What is the difference between string and variable?\n",
    "\n",
    "String is a set of characters enclosed in \"\" or ''. A string can be assigned to a variable. A variable can be of any type like string, integer, float or boolean.\n",
    "\n",
    "\n",
    "3. Describe three different data types.\n",
    "\n",
    "Integer : It is the set of all the real numbers without decimals and fraction.\n",
    "String : It is anything enclosed between \"\" or ''.\n",
    "Float : It is all the real numbers with decimals and fraction\n",
    "\n",
    "\n",
    "4. What is an expression made up of? What do all expressions do?\n",
    "\n",
    "An expression is made of operator and operand. An expression genrally computes and assigns a value to the variable.\n",
    "\n",
    "\n",
    "5. This assignment statements, like spam = 10. What is the difference between an expression and a statement?\n",
    "\n",
    "An assignment statement directly assigns a value to the variable. An expression evaluates the right side of the expression and assign it to the variable.\n",
    "\n",
    "\n",
    "6. After running the following code, what does the variable bacon contain?\n",
    "bacon = 22\n",
    "bacon + 1\n",
    "\n",
    "bacon's value would be 22\n",
    "\n",
    "\n",
    "7. What should the values of the following two terms be?\n",
    "'spam'+'spamspam'\n",
    "'spam'* 3\n",
    "\n",
    "'spamspamspam'\n",
    "'spamspamspam'\n",
    "\n",
    "8. Why is eggs a valid variable name while 100 is invalid?\n",
    "\n",
    "100 is an integer value, while eggs isn't a keyword or a number.\n",
    "\n",
    "\n",
    "9. What three functions can be used to get the integer, floating-point number, or string\n",
    "version of a value?\n",
    "int()\n",
    "float()\n",
    "str()\n",
    "\n",
    "\n",
    "10. Why does this expression cause an error? How can you fix it?\n",
    "'I have eaten' + 99 + 'burritos'\n",
    "\n",
    "This would give an error as only similar datatypes can be added.\n",
    "Correction :\n",
    "'I have eaten' + '99' + 'burritos'"
   ]
  },
  {
   "cell_type": "code",
   "execution_count": null,
   "id": "6b754852",
   "metadata": {},
   "outputs": [],
   "source": [
    "\n"
   ]
  },
  {
   "cell_type": "code",
   "execution_count": null,
   "id": "4a92e414",
   "metadata": {},
   "outputs": [],
   "source": []
  }
 ],
 "metadata": {
  "kernelspec": {
   "display_name": "Python 3 (ipykernel)",
   "language": "python",
   "name": "python3"
  },
  "language_info": {
   "codemirror_mode": {
    "name": "ipython",
    "version": 3
   },
   "file_extension": ".py",
   "mimetype": "text/x-python",
   "name": "python",
   "nbconvert_exporter": "python",
   "pygments_lexer": "ipython3",
   "version": "3.9.7"
  }
 },
 "nbformat": 4,
 "nbformat_minor": 5
}
