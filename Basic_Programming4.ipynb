{
 "cells": [
  {
   "cell_type": "markdown",
   "id": "7e5e3d34",
   "metadata": {},
   "source": [
    "Write a Python Program to Find the Factorial of a Number?\n",
    "Write a Python Program to Display the multiplication Table?\n",
    "Write a Python Program to Print the Fibonacci sequence?\n",
    "Write a Python Program to Check Armstrong Number?\n",
    "Write a Python Program to Find Armstrong Number in an Interval?\n",
    "Write a Python Program to Find the Sum of Natural Numbers?\n"
   ]
  },
  {
   "cell_type": "code",
   "execution_count": 6,
   "id": "7f1ce022",
   "metadata": {},
   "outputs": [
    {
     "data": {
      "text/plain": [
       "3628800"
      ]
     },
     "execution_count": 6,
     "metadata": {},
     "output_type": "execute_result"
    }
   ],
   "source": [
    "#Write a Python Program to Find the Factorial of a Number?\n",
    "\n",
    "\n",
    "def factorial(a):\n",
    "    fact = 1\n",
    "    while(a>1):\n",
    "        fact*=a\n",
    "        a-=1\n",
    "    return fact\n",
    "\n",
    "factorial(10)"
   ]
  },
  {
   "cell_type": "code",
   "execution_count": 14,
   "id": "4e282c08",
   "metadata": {},
   "outputs": [
    {
     "name": "stdout",
     "output_type": "stream",
     "text": [
      "15  X  1  =  15\n",
      "15  X  2  =  30\n",
      "15  X  3  =  45\n",
      "15  X  4  =  60\n",
      "15  X  5  =  75\n",
      "15  X  6  =  90\n",
      "15  X  7  =  105\n",
      "15  X  8  =  120\n",
      "15  X  9  =  135\n",
      "15  X  10  =  150\n"
     ]
    }
   ],
   "source": [
    "#Write a Python Program to Display the multiplication Table?\n",
    "\n",
    "def table(a):\n",
    "    for i in range(1,11):\n",
    "        print(a, \" X \", i, \" = \", (a*i))\n",
    "    return\n",
    "\n",
    "table(15)"
   ]
  },
  {
   "cell_type": "code",
   "execution_count": 4,
   "id": "62758f44",
   "metadata": {},
   "outputs": [
    {
     "name": "stdout",
     "output_type": "stream",
     "text": [
      "1\n",
      "1\n",
      "2\n",
      "3\n",
      "5\n",
      "8\n",
      "13\n",
      "21\n",
      "34\n",
      "55\n"
     ]
    }
   ],
   "source": [
    "#Write a Python Program to Print the Fibonacci sequence?\n",
    "\n",
    "def fibo(k):\n",
    "    a = 0\n",
    "    b = 1\n",
    "    for i in range(k):\n",
    "        print(b)\n",
    "        a,b = b,a+b\n",
    "        \n",
    "fibo(10)\n",
    "    "
   ]
  },
  {
   "cell_type": "code",
   "execution_count": 10,
   "id": "9ac3d3e2",
   "metadata": {},
   "outputs": [
    {
     "name": "stdout",
     "output_type": "stream",
     "text": [
      "Armstrong\n"
     ]
    }
   ],
   "source": [
    "#Write a Python Program to Check Armstrong Number?\n",
    "\n",
    "def Armstrong(number):\n",
    "    i = number\n",
    "    k = 0\n",
    "    while(i!=0):\n",
    "        k = k + ((i%10)**3)\n",
    "        i = int(i/10)\n",
    "    if(k==number):\n",
    "        print(\"Armstrong\")\n",
    "    return\n",
    "\n",
    "Armstrong(407)\n",
    "            "
   ]
  },
  {
   "cell_type": "code",
   "execution_count": 11,
   "id": "b4a87926",
   "metadata": {},
   "outputs": [
    {
     "name": "stdout",
     "output_type": "stream",
     "text": [
      "Enter the interval 100000\n",
      "1\n",
      "2\n",
      "3\n",
      "4\n",
      "5\n",
      "6\n",
      "7\n",
      "8\n",
      "9\n",
      "153\n",
      "370\n",
      "371\n",
      "407\n",
      "1634\n",
      "8208\n",
      "9474\n",
      "54748\n",
      "92727\n",
      "93084\n"
     ]
    }
   ],
   "source": [
    "#Write a Python Program to Find Armstrong Number in an Interval?\n",
    "\n",
    "def Armstrong(number):\n",
    "    i = number\n",
    "    k = 0\n",
    "    l = []\n",
    "    while(i!=0):\n",
    "        l.append(i%10)\n",
    "        i = int(i/10)\n",
    "    \n",
    "    for i in l:\n",
    "        k = k + (i**(len(l)))\n",
    "        \n",
    "        \n",
    "    if(k==number):\n",
    "        print(k)\n",
    "    return\n",
    "\n",
    "for i in range(1,int(input(\"Enter the interval \"))):\n",
    "    Armstrong(i)\n"
   ]
  },
  {
   "cell_type": "code",
   "execution_count": 13,
   "id": "98b63ab0",
   "metadata": {},
   "outputs": [
    {
     "data": {
      "text/plain": [
       "55"
      ]
     },
     "execution_count": 13,
     "metadata": {},
     "output_type": "execute_result"
    }
   ],
   "source": [
    "#Write a Python Program to Find the Sum of Natural Numbers?\n",
    "\n",
    "def sumNatural(number):\n",
    "    sum = 0\n",
    "    for i in range(number+1):\n",
    "        sum += i\n",
    "    return sum\n",
    "\n",
    "sumNatural(10)"
   ]
  },
  {
   "cell_type": "code",
   "execution_count": null,
   "id": "906a5387",
   "metadata": {},
   "outputs": [],
   "source": []
  }
 ],
 "metadata": {
  "kernelspec": {
   "display_name": "Python 3",
   "language": "python",
   "name": "python3"
  },
  "language_info": {
   "codemirror_mode": {
    "name": "ipython",
    "version": 3
   },
   "file_extension": ".py",
   "mimetype": "text/x-python",
   "name": "python",
   "nbconvert_exporter": "python",
   "pygments_lexer": "ipython3",
   "version": "3.8.8"
  }
 },
 "nbformat": 4,
 "nbformat_minor": 5
}
