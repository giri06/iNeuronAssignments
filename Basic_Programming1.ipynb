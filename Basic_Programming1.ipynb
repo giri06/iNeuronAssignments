{
 "cells": [
  {
   "cell_type": "markdown",
   "id": "a3220922",
   "metadata": {},
   "source": [
    "Write a Python program to print \"Hello Python\"?\n",
    "Write a Python program to do arithmetical operations addition and division.?\n",
    "Write a Python program to find the area of a triangle?\n",
    "Write a Python program to swap two variables?\n",
    "Write a Python program to generate a random number?\n"
   ]
  },
  {
   "cell_type": "code",
   "execution_count": 1,
   "id": "6974c909",
   "metadata": {},
   "outputs": [
    {
     "name": "stdout",
     "output_type": "stream",
     "text": [
      "Hello Python\n"
     ]
    }
   ],
   "source": [
    "#Write a Python program to print \"Hello Python\"?\n",
    "\n",
    "print(\"Hello Python\")"
   ]
  },
  {
   "cell_type": "code",
   "execution_count": 5,
   "id": "749d77a9",
   "metadata": {},
   "outputs": [
    {
     "name": "stdout",
     "output_type": "stream",
     "text": [
      "Enter + or /+\n",
      "Enter two numbers25\n",
      "25\n"
     ]
    },
    {
     "data": {
      "text/plain": [
       "50"
      ]
     },
     "execution_count": 5,
     "metadata": {},
     "output_type": "execute_result"
    }
   ],
   "source": [
    "#Write a Python program to do arithmetical operations addition and division.?\n",
    "\n",
    "def operation(a,x,y):\n",
    "    if a == (\"+\"):\n",
    "        return x+y\n",
    "    elif a == (\"/\"):\n",
    "        return x/y\n",
    "   def  else:\n",
    "        print(\"we don't perform other operations\")\n",
    "\n",
    "op = input(\"Enter + or /\")\n",
    "x,y = int(input(\"Enter two numbers\")), int(input())\n",
    "operation(op,x,y)"
   ]
  },
  {
   "cell_type": "code",
   "execution_count": 8,
   "id": "610e2271",
   "metadata": {},
   "outputs": [
    {
     "name": "stdout",
     "output_type": "stream",
     "text": [
      "Enter 3 length of sides of triangle12\n",
      "18\n",
      "20\n",
      "25.0 s\n",
      "21.330729007701542\n"
     ]
    }
   ],
   "source": [
    "#Write a Python program to find the area of a triangle?\n",
    "\n",
    "a,b,c = int(input(\"Enter 3 length of sides of triangle\")),int(input()), int(input())\n",
    "s= (a+b+c)/2\n",
    "def areaTri(s,a,b,c):\n",
    "    return ((s-a)*(s-b)*(s-c))**(1/2)\n",
    "\n",
    "print(s,\"s\")\n",
    "print(areaTri(s,a,b,c))\n"
   ]
  },
  {
   "cell_type": "code",
   "execution_count": 9,
   "id": "9b506618",
   "metadata": {},
   "outputs": [
    {
     "name": "stdout",
     "output_type": "stream",
     "text": [
      "a ----->  24\n",
      "b ----->  12\n"
     ]
    }
   ],
   "source": [
    "#Write a Python program to swap two variables?\n",
    "\n",
    "def swap(a,b):\n",
    "    a,b = b,a\n",
    "    return a,b\n",
    "\n",
    "\n",
    "a,b = 12,24\n",
    "a,b = swap(a,b)\n",
    "print(\"a -----> \", a)\n",
    "print(\"b -----> \", b)"
   ]
  },
  {
   "cell_type": "code",
   "execution_count": 24,
   "id": "1f732b8f",
   "metadata": {},
   "outputs": [
    {
     "name": "stdout",
     "output_type": "stream",
     "text": [
      "5\n",
      "0.9633841395065459\n"
     ]
    }
   ],
   "source": [
    "#Write a Python program to generate a random number?\n",
    "\n",
    "import random\n",
    "\n",
    "number = random.randint(1,6)\n",
    "print(number)\n",
    "number = random.random()\n",
    "print(number)\n"
   ]
  },
  {
   "cell_type": "code",
   "execution_count": null,
   "id": "9598d1aa",
   "metadata": {},
   "outputs": [],
   "source": []
  },
  {
   "cell_type": "code",
   "execution_count": null,
   "id": "eee2aa72",
   "metadata": {},
   "outputs": [],
   "source": []
  }
 ],
 "metadata": {
  "kernelspec": {
   "display_name": "Python 3",
   "language": "python",
   "name": "python3"
  },
  "language_info": {
   "codemirror_mode": {
    "name": "ipython",
    "version": 3
   },
   "file_extension": ".py",
   "mimetype": "text/x-python",
   "name": "python",
   "nbconvert_exporter": "python",
   "pygments_lexer": "ipython3",
   "version": "3.8.8"
  }
 },
 "nbformat": 4,
 "nbformat_minor": 5
}
